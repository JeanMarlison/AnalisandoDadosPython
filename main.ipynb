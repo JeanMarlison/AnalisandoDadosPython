{
 "cells": [
  {
   "cell_type": "markdown",
   "metadata": {},
   "source": [
    "# Analisando Dados com Python\n",
    "\n",
    "## Jornada de Python. Aula 02 do dia 11 de Janeiro de 2023\n",
    "\n",
    "Este código tem como objetivo simular uma análise de dados de 800 mil clientes que estão cancelando os seus serviços. Com base nisso, você deve identificar quais são as causas que estão levando a essa situação e determinar as ações necessárias para reverter esse quadro.\n",
    "\n",
    "Base de dados e arquivos: https://drive.google.com/drive/folders/1uDesZePdkhiraJmiyeZ-w5tfc8XsNYFZ?usp=drive_link"
   ]
  },
  {
   "cell_type": "code",
   "execution_count": null,
   "metadata": {},
   "outputs": [],
   "source": []
  }
 ],
 "metadata": {
  "language_info": {
   "name": "python"
  }
 },
 "nbformat": 4,
 "nbformat_minor": 2
}
