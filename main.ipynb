{
 "cells": [
  {
   "cell_type": "markdown",
   "metadata": {},
   "source": [
    "# Analisando Dados com Python\n",
    "\n",
    "## Jornada de Python. Aula 02 do dia 11 de Janeiro de 2023\n",
    "\n",
    "Este código tem como objetivo simular uma análise de dados de 800 mil clientes que estão cancelando os seus serviços. Com base nisso, você deve identificar quais são as causas que estão levando a essa situação e determinar as ações necessárias para reverter esse quadro.\n",
    "\n",
    "Base de dados e arquivos: https://drive.google.com/drive/folders/1uDesZePdkhiraJmiyeZ-w5tfc8XsNYFZ?usp=drive_link"
   ]
  },
  {
   "cell_type": "code",
   "execution_count": null,
   "metadata": {},
   "outputs": [],
   "source": [
    "#Imports\n",
    "import pandas as pd\n",
    "\n",
    "tabela = pd.read_csv(\"cancelamentos.csv\")\n",
    "\n",
    "tabela = tabela.drop(\"CustomerID\", axis=1)\n",
    "\n",
    "display(tabela)"
   ]
  },
  {
   "cell_type": "code",
   "execution_count": null,
   "metadata": {},
   "outputs": [],
   "source": [
    "# identificando e removendo valores vazios\n",
    "\n",
    "display(tabela.info())\n",
    "\n",
    "tabela = tabela.dropna() \n",
    "\n",
    "display(tabela.info())"
   ]
  },
  {
   "cell_type": "code",
   "execution_count": null,
   "metadata": {},
   "outputs": [],
   "source": [
    "# Quantas pessoas cancelaram e não cancelaram   \n",
    "\n",
    "display(tabela[\"cancelou\"].value_counts())\n",
    "display(tabela[\"cancelou\"].value_counts(normalize=True).map(\"{:.2%}\".format))\n"
   ]
  },
  {
   "cell_type": "code",
   "execution_count": null,
   "metadata": {},
   "outputs": [],
   "source": [
    "# analisando o contrato mensal\n",
    "display(tabela.groupby(\"duracao_contrato\").mean(numeric_only=True))\n"
   ]
  },
  {
   "cell_type": "code",
   "execution_count": null,
   "metadata": {},
   "outputs": [],
   "source": [
    "# então descobrimos que contrato mensal é ruim, vamos tirar ele e continuar analisando\n",
    "tabela = tabela[tabela[\"duracao_contrato\"]!=\"Monthly\"]\n",
    "display(tabela)\n",
    "\n",
    "display(tabela[\"cancelou\"].value_counts())\n",
    "\n",
    "\n",
    "#Vou fazer uma Vareavel somente para ver em porcentagem!\n",
    "porcentagemMosta = tabela\n",
    "display(porcentagemMosta[\"cancelou\"].value_counts(normalize=True).map(\"{:.2%}\".format))"
   ]
  },
  {
   "cell_type": "code",
   "execution_count": null,
   "metadata": {},
   "outputs": [],
   "source": [
    "display(tabela[\"assinatura\"].value_counts(normalize=True))\n",
    "display(tabela.groupby(\"assinatura\").mean(numeric_only=True))\n"
   ]
  },
  {
   "cell_type": "markdown",
   "metadata": {},
   "source": [
    "### Criação de Gráficos \n",
    "\n",
    "Implementação de diversos gráficos visuais para aprimorar a compreensão dos dados. A criação destes gráficos tem o propósito de facilitar a visualização e interpretação das informações, proporcionando uma análise mais eficaz."
   ]
  },
  {
   "cell_type": "code",
   "execution_count": null,
   "metadata": {},
   "outputs": [],
   "source": [
    "# Criação de Gráficos \n",
    "\n",
    "\n",
    "import plotly.express as px\n",
    "\n",
    "\n",
    "for coluna in tabela.columns:\n",
    "   \n",
    "    grafico = px.histogram(tabela, x=coluna, color=\"cancelou\", width=600)\n",
    "    \n",
    "    grafico.show()\n",
    "\n",
    "    "
   ]
  }
 ],
 "metadata": {
  "kernelspec": {
   "display_name": "Python 3",
   "language": "python",
   "name": "python3"
  },
  "language_info": {
   "codemirror_mode": {
    "name": "ipython",
    "version": 3
   },
   "file_extension": ".py",
   "mimetype": "text/x-python",
   "name": "python",
   "nbconvert_exporter": "python",
   "pygments_lexer": "ipython3",
   "version": "3.12.1"
  }
 },
 "nbformat": 4,
 "nbformat_minor": 2
}
